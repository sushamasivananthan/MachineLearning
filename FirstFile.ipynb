{
 "cells": [
  {
   "cell_type": "code",
   "execution_count": 2,
   "metadata": {},
   "outputs": [],
   "source": [
    "import pandas as pd"
   ]
  },
  {
   "cell_type": "code",
   "execution_count": 3,
   "metadata": {},
   "outputs": [],
   "source": [
    "import numpy as np"
   ]
  },
  {
   "cell_type": "code",
   "execution_count": 4,
   "metadata": {},
   "outputs": [
    {
     "name": "stderr",
     "output_type": "stream",
     "text": [
      "C:\\Users\\santh\\Anaconda3\\lib\\site-packages\\statsmodels\\tools\\_testing.py:19: FutureWarning: pandas.util.testing is deprecated. Use the functions in the public API at pandas.testing instead.\n",
      "  import pandas.util.testing as tm\n"
     ]
    }
   ],
   "source": [
    "\n",
    "# data visualization\n",
    "import seaborn as sns\n",
    "%matplotlib inline\n",
    "from matplotlib import pyplot as plt\n",
    "from matplotlib import style\n",
    "\n",
    "# Algorithms\n",
    "from sklearn import linear_model\n",
    "from sklearn.linear_model import LogisticRegression\n",
    "from sklearn.ensemble import RandomForestClassifier\n",
    "from sklearn.linear_model import Perceptron\n",
    "from sklearn.linear_model import SGDClassifier\n",
    "from sklearn.tree import DecisionTreeClassifier\n",
    "from sklearn.neighbors import KNeighborsClassifier\n",
    "from sklearn.svm import SVC, LinearSVC\n",
    "from sklearn.naive_bayes import GaussianNB"
   ]
  },
  {
   "cell_type": "code",
   "execution_count": 5,
   "metadata": {},
   "outputs": [],
   "source": [
    "df = pd.read_csv(r'C:\\Users\\santh\\Downloads\\archive (2)/personality.csv')"
   ]
  },
  {
   "cell_type": "code",
   "execution_count": 6,
   "metadata": {},
   "outputs": [
    {
     "data": {
      "text/html": [
       "<div>\n",
       "<style scoped>\n",
       "    .dataframe tbody tr th:only-of-type {\n",
       "        vertical-align: middle;\n",
       "    }\n",
       "\n",
       "    .dataframe tbody tr th {\n",
       "        vertical-align: top;\n",
       "    }\n",
       "\n",
       "    .dataframe thead th {\n",
       "        text-align: right;\n",
       "    }\n",
       "</style>\n",
       "<table border=\"1\" class=\"dataframe\">\n",
       "  <thead>\n",
       "    <tr style=\"text-align: right;\">\n",
       "      <th></th>\n",
       "      <th>userid</th>\n",
       "      <th>openness</th>\n",
       "      <th>agreeableness</th>\n",
       "      <th>emotional_stability</th>\n",
       "      <th>conscientiousness</th>\n",
       "      <th>extraversion</th>\n",
       "      <th>assigned metric</th>\n",
       "      <th>assigned condition</th>\n",
       "      <th>movie_1</th>\n",
       "      <th>predicted_rating_1</th>\n",
       "      <th>...</th>\n",
       "      <th>movie_9</th>\n",
       "      <th>predicted_rating_9</th>\n",
       "      <th>movie_10</th>\n",
       "      <th>predicted_rating_10</th>\n",
       "      <th>movie_11</th>\n",
       "      <th>predicted_rating_11</th>\n",
       "      <th>movie_12</th>\n",
       "      <th>predicted_rating_12</th>\n",
       "      <th>is_personalized</th>\n",
       "      <th>enjoy_watching</th>\n",
       "    </tr>\n",
       "  </thead>\n",
       "  <tbody>\n",
       "    <tr>\n",
       "      <th>0</th>\n",
       "      <td>8e7cebf9a234c064b75016249f2ac65e</td>\n",
       "      <td>5.0</td>\n",
       "      <td>2.0</td>\n",
       "      <td>3.0</td>\n",
       "      <td>2.5</td>\n",
       "      <td>6.5</td>\n",
       "      <td>serendipity</td>\n",
       "      <td>high</td>\n",
       "      <td>77658</td>\n",
       "      <td>4.410466</td>\n",
       "      <td>...</td>\n",
       "      <td>120138</td>\n",
       "      <td>4.244817</td>\n",
       "      <td>121372</td>\n",
       "      <td>4.396004</td>\n",
       "      <td>127152</td>\n",
       "      <td>4.120456</td>\n",
       "      <td>95311</td>\n",
       "      <td>4.053847</td>\n",
       "      <td>4</td>\n",
       "      <td>4</td>\n",
       "    </tr>\n",
       "    <tr>\n",
       "      <th>1</th>\n",
       "      <td>77c7d756a093150d4377720abeaeef76</td>\n",
       "      <td>7.0</td>\n",
       "      <td>4.0</td>\n",
       "      <td>6.0</td>\n",
       "      <td>5.5</td>\n",
       "      <td>4.0</td>\n",
       "      <td>all</td>\n",
       "      <td>default</td>\n",
       "      <td>94959</td>\n",
       "      <td>4.207280</td>\n",
       "      <td>...</td>\n",
       "      <td>56782</td>\n",
       "      <td>4.019599</td>\n",
       "      <td>5618</td>\n",
       "      <td>3.963953</td>\n",
       "      <td>969</td>\n",
       "      <td>4.174188</td>\n",
       "      <td>1232</td>\n",
       "      <td>4.334877</td>\n",
       "      <td>2</td>\n",
       "      <td>3</td>\n",
       "    </tr>\n",
       "    <tr>\n",
       "      <th>2</th>\n",
       "      <td>b7e8a92987a530cc368719a0e60e26a3</td>\n",
       "      <td>4.0</td>\n",
       "      <td>3.0</td>\n",
       "      <td>4.5</td>\n",
       "      <td>2.0</td>\n",
       "      <td>2.5</td>\n",
       "      <td>serendipity</td>\n",
       "      <td>medium</td>\n",
       "      <td>110501</td>\n",
       "      <td>4.868064</td>\n",
       "      <td>...</td>\n",
       "      <td>2288</td>\n",
       "      <td>4.823212</td>\n",
       "      <td>3307</td>\n",
       "      <td>4.676756</td>\n",
       "      <td>1172</td>\n",
       "      <td>4.649281</td>\n",
       "      <td>1212</td>\n",
       "      <td>4.744990</td>\n",
       "      <td>2</td>\n",
       "      <td>2</td>\n",
       "    </tr>\n",
       "    <tr>\n",
       "      <th>3</th>\n",
       "      <td>92561f21446e017dd6b68b94b23ad5b7</td>\n",
       "      <td>5.5</td>\n",
       "      <td>5.5</td>\n",
       "      <td>4.0</td>\n",
       "      <td>4.5</td>\n",
       "      <td>4.0</td>\n",
       "      <td>popularity</td>\n",
       "      <td>medium</td>\n",
       "      <td>2905</td>\n",
       "      <td>4.526371</td>\n",
       "      <td>...</td>\n",
       "      <td>3030</td>\n",
       "      <td>4.425689</td>\n",
       "      <td>1281</td>\n",
       "      <td>4.479921</td>\n",
       "      <td>940</td>\n",
       "      <td>4.355061</td>\n",
       "      <td>905</td>\n",
       "      <td>4.317927</td>\n",
       "      <td>3</td>\n",
       "      <td>3</td>\n",
       "    </tr>\n",
       "    <tr>\n",
       "      <th>4</th>\n",
       "      <td>030001ac2145a938b07e686a35a2d638</td>\n",
       "      <td>5.5</td>\n",
       "      <td>5.5</td>\n",
       "      <td>3.5</td>\n",
       "      <td>4.5</td>\n",
       "      <td>2.5</td>\n",
       "      <td>popularity</td>\n",
       "      <td>medium</td>\n",
       "      <td>2905</td>\n",
       "      <td>4.526371</td>\n",
       "      <td>...</td>\n",
       "      <td>3030</td>\n",
       "      <td>4.425689</td>\n",
       "      <td>1281</td>\n",
       "      <td>4.479921</td>\n",
       "      <td>940</td>\n",
       "      <td>4.355061</td>\n",
       "      <td>905</td>\n",
       "      <td>4.317927</td>\n",
       "      <td>2</td>\n",
       "      <td>3</td>\n",
       "    </tr>\n",
       "  </tbody>\n",
       "</table>\n",
       "<p>5 rows × 34 columns</p>\n",
       "</div>"
      ],
      "text/plain": [
       "                             userid   openness   agreeableness  \\\n",
       "0  8e7cebf9a234c064b75016249f2ac65e        5.0             2.0   \n",
       "1  77c7d756a093150d4377720abeaeef76        7.0             4.0   \n",
       "2  b7e8a92987a530cc368719a0e60e26a3        4.0             3.0   \n",
       "3  92561f21446e017dd6b68b94b23ad5b7        5.5             5.5   \n",
       "4  030001ac2145a938b07e686a35a2d638        5.5             5.5   \n",
       "\n",
       "    emotional_stability   conscientiousness   extraversion  assigned metric  \\\n",
       "0                   3.0                 2.5            6.5      serendipity   \n",
       "1                   6.0                 5.5            4.0              all   \n",
       "2                   4.5                 2.0            2.5      serendipity   \n",
       "3                   4.0                 4.5            4.0       popularity   \n",
       "4                   3.5                 4.5            2.5       popularity   \n",
       "\n",
       "   assigned condition   movie_1   predicted_rating_1  ...   movie_9  \\\n",
       "0                high     77658             4.410466  ...    120138   \n",
       "1             default     94959             4.207280  ...     56782   \n",
       "2              medium    110501             4.868064  ...      2288   \n",
       "3              medium      2905             4.526371  ...      3030   \n",
       "4              medium      2905             4.526371  ...      3030   \n",
       "\n",
       "    predicted_rating_9   movie_10   predicted_rating_10   movie_11  \\\n",
       "0             4.244817     121372              4.396004     127152   \n",
       "1             4.019599       5618              3.963953        969   \n",
       "2             4.823212       3307              4.676756       1172   \n",
       "3             4.425689       1281              4.479921        940   \n",
       "4             4.425689       1281              4.479921        940   \n",
       "\n",
       "    predicted_rating_11   movie_12   predicted_rating_12   is_personalized  \\\n",
       "0              4.120456      95311              4.053847                 4   \n",
       "1              4.174188       1232              4.334877                 2   \n",
       "2              4.649281       1212              4.744990                 2   \n",
       "3              4.355061        905              4.317927                 3   \n",
       "4              4.355061        905              4.317927                 2   \n",
       "\n",
       "    enjoy_watching   \n",
       "0                 4  \n",
       "1                 3  \n",
       "2                 2  \n",
       "3                 3  \n",
       "4                 3  \n",
       "\n",
       "[5 rows x 34 columns]"
      ]
     },
     "execution_count": 6,
     "metadata": {},
     "output_type": "execute_result"
    }
   ],
   "source": [
    "df.head(5)"
   ]
  },
  {
   "cell_type": "code",
   "execution_count": 7,
   "metadata": {},
   "outputs": [
    {
     "data": {
      "text/plain": [
       "(1834, 34)"
      ]
     },
     "execution_count": 7,
     "metadata": {},
     "output_type": "execute_result"
    }
   ],
   "source": [
    "df.shape"
   ]
  },
  {
   "cell_type": "code",
   "execution_count": 8,
   "metadata": {},
   "outputs": [
    {
     "data": {
      "text/html": [
       "<div>\n",
       "<style scoped>\n",
       "    .dataframe tbody tr th:only-of-type {\n",
       "        vertical-align: middle;\n",
       "    }\n",
       "\n",
       "    .dataframe tbody tr th {\n",
       "        vertical-align: top;\n",
       "    }\n",
       "\n",
       "    .dataframe thead th {\n",
       "        text-align: right;\n",
       "    }\n",
       "</style>\n",
       "<table border=\"1\" class=\"dataframe\">\n",
       "  <thead>\n",
       "    <tr style=\"text-align: right;\">\n",
       "      <th></th>\n",
       "      <th>openness</th>\n",
       "      <th>agreeableness</th>\n",
       "      <th>emotional_stability</th>\n",
       "      <th>conscientiousness</th>\n",
       "      <th>extraversion</th>\n",
       "      <th>movie_1</th>\n",
       "      <th>predicted_rating_1</th>\n",
       "      <th>movie_2</th>\n",
       "      <th>predicted_rating_2</th>\n",
       "      <th>movie_3</th>\n",
       "      <th>...</th>\n",
       "      <th>movie_9</th>\n",
       "      <th>predicted_rating_9</th>\n",
       "      <th>movie_10</th>\n",
       "      <th>predicted_rating_10</th>\n",
       "      <th>movie_11</th>\n",
       "      <th>predicted_rating_11</th>\n",
       "      <th>movie_12</th>\n",
       "      <th>predicted_rating_12</th>\n",
       "      <th>is_personalized</th>\n",
       "      <th>enjoy_watching</th>\n",
       "    </tr>\n",
       "  </thead>\n",
       "  <tbody>\n",
       "    <tr>\n",
       "      <th>count</th>\n",
       "      <td>1834.000000</td>\n",
       "      <td>1834.000000</td>\n",
       "      <td>1834.000000</td>\n",
       "      <td>1834.000000</td>\n",
       "      <td>1834.000000</td>\n",
       "      <td>1834.000000</td>\n",
       "      <td>1834.000000</td>\n",
       "      <td>1834.000000</td>\n",
       "      <td>1834.000000</td>\n",
       "      <td>1834.000000</td>\n",
       "      <td>...</td>\n",
       "      <td>1834.000000</td>\n",
       "      <td>1834.000000</td>\n",
       "      <td>1834.000000</td>\n",
       "      <td>1834.000000</td>\n",
       "      <td>1834.000000</td>\n",
       "      <td>1834.000000</td>\n",
       "      <td>1834.000000</td>\n",
       "      <td>1834.000000</td>\n",
       "      <td>1834.000000</td>\n",
       "      <td>1834.000000</td>\n",
       "    </tr>\n",
       "    <tr>\n",
       "      <th>mean</th>\n",
       "      <td>5.376499</td>\n",
       "      <td>4.215921</td>\n",
       "      <td>4.561614</td>\n",
       "      <td>4.662486</td>\n",
       "      <td>3.485551</td>\n",
       "      <td>45669.233915</td>\n",
       "      <td>4.362927</td>\n",
       "      <td>50656.360414</td>\n",
       "      <td>4.322496</td>\n",
       "      <td>51791.061069</td>\n",
       "      <td>...</td>\n",
       "      <td>39458.009269</td>\n",
       "      <td>4.302993</td>\n",
       "      <td>38493.352236</td>\n",
       "      <td>4.301880</td>\n",
       "      <td>39280.998909</td>\n",
       "      <td>4.300609</td>\n",
       "      <td>38871.924755</td>\n",
       "      <td>4.302449</td>\n",
       "      <td>3.056707</td>\n",
       "      <td>3.517993</td>\n",
       "    </tr>\n",
       "    <tr>\n",
       "      <th>std</th>\n",
       "      <td>1.042804</td>\n",
       "      <td>1.137923</td>\n",
       "      <td>1.392548</td>\n",
       "      <td>1.311450</td>\n",
       "      <td>1.468503</td>\n",
       "      <td>46612.744107</td>\n",
       "      <td>0.383549</td>\n",
       "      <td>46669.152356</td>\n",
       "      <td>0.378746</td>\n",
       "      <td>46172.769718</td>\n",
       "      <td>...</td>\n",
       "      <td>44511.776921</td>\n",
       "      <td>0.380281</td>\n",
       "      <td>43444.149855</td>\n",
       "      <td>0.383848</td>\n",
       "      <td>43446.111523</td>\n",
       "      <td>0.378476</td>\n",
       "      <td>43486.579385</td>\n",
       "      <td>0.378439</td>\n",
       "      <td>1.078507</td>\n",
       "      <td>1.059060</td>\n",
       "    </tr>\n",
       "    <tr>\n",
       "      <th>min</th>\n",
       "      <td>1.000000</td>\n",
       "      <td>1.000000</td>\n",
       "      <td>1.000000</td>\n",
       "      <td>1.000000</td>\n",
       "      <td>1.000000</td>\n",
       "      <td>6.000000</td>\n",
       "      <td>2.510682</td>\n",
       "      <td>1.000000</td>\n",
       "      <td>2.423497</td>\n",
       "      <td>6.000000</td>\n",
       "      <td>...</td>\n",
       "      <td>1.000000</td>\n",
       "      <td>2.483215</td>\n",
       "      <td>1.000000</td>\n",
       "      <td>2.799538</td>\n",
       "      <td>1.000000</td>\n",
       "      <td>2.375510</td>\n",
       "      <td>1.000000</td>\n",
       "      <td>2.313341</td>\n",
       "      <td>1.000000</td>\n",
       "      <td>1.000000</td>\n",
       "    </tr>\n",
       "    <tr>\n",
       "      <th>25%</th>\n",
       "      <td>4.500000</td>\n",
       "      <td>3.500000</td>\n",
       "      <td>3.500000</td>\n",
       "      <td>4.000000</td>\n",
       "      <td>2.500000</td>\n",
       "      <td>2019.000000</td>\n",
       "      <td>4.110614</td>\n",
       "      <td>3307.750000</td>\n",
       "      <td>4.084125</td>\n",
       "      <td>3031.250000</td>\n",
       "      <td>...</td>\n",
       "      <td>1766.750000</td>\n",
       "      <td>4.049153</td>\n",
       "      <td>1302.000000</td>\n",
       "      <td>4.059146</td>\n",
       "      <td>1466.000000</td>\n",
       "      <td>4.052558</td>\n",
       "      <td>1256.000000</td>\n",
       "      <td>4.050181</td>\n",
       "      <td>2.000000</td>\n",
       "      <td>3.000000</td>\n",
       "    </tr>\n",
       "    <tr>\n",
       "      <th>50%</th>\n",
       "      <td>5.500000</td>\n",
       "      <td>4.000000</td>\n",
       "      <td>4.500000</td>\n",
       "      <td>4.500000</td>\n",
       "      <td>3.500000</td>\n",
       "      <td>17392.000000</td>\n",
       "      <td>4.355815</td>\n",
       "      <td>44377.000000</td>\n",
       "      <td>4.320721</td>\n",
       "      <td>48780.000000</td>\n",
       "      <td>...</td>\n",
       "      <td>7156.000000</td>\n",
       "      <td>4.307194</td>\n",
       "      <td>6964.000000</td>\n",
       "      <td>4.294702</td>\n",
       "      <td>7505.000000</td>\n",
       "      <td>4.299400</td>\n",
       "      <td>7361.000000</td>\n",
       "      <td>4.305078</td>\n",
       "      <td>3.000000</td>\n",
       "      <td>4.000000</td>\n",
       "    </tr>\n",
       "    <tr>\n",
       "      <th>75%</th>\n",
       "      <td>6.000000</td>\n",
       "      <td>5.000000</td>\n",
       "      <td>5.500000</td>\n",
       "      <td>5.500000</td>\n",
       "      <td>4.500000</td>\n",
       "      <td>94466.000000</td>\n",
       "      <td>4.618449</td>\n",
       "      <td>96606.000000</td>\n",
       "      <td>4.556173</td>\n",
       "      <td>95311.000000</td>\n",
       "      <td>...</td>\n",
       "      <td>84847.000000</td>\n",
       "      <td>4.545671</td>\n",
       "      <td>81847.000000</td>\n",
       "      <td>4.539686</td>\n",
       "      <td>81845.000000</td>\n",
       "      <td>4.549493</td>\n",
       "      <td>82069.000000</td>\n",
       "      <td>4.550886</td>\n",
       "      <td>4.000000</td>\n",
       "      <td>4.000000</td>\n",
       "    </tr>\n",
       "    <tr>\n",
       "      <th>max</th>\n",
       "      <td>7.000000</td>\n",
       "      <td>7.000000</td>\n",
       "      <td>7.000000</td>\n",
       "      <td>7.000000</td>\n",
       "      <td>7.000000</td>\n",
       "      <td>140737.000000</td>\n",
       "      <td>6.563889</td>\n",
       "      <td>136445.000000</td>\n",
       "      <td>6.585588</td>\n",
       "      <td>141761.000000</td>\n",
       "      <td>...</td>\n",
       "      <td>140359.000000</td>\n",
       "      <td>6.606617</td>\n",
       "      <td>134853.000000</td>\n",
       "      <td>7.345432</td>\n",
       "      <td>142115.000000</td>\n",
       "      <td>6.530355</td>\n",
       "      <td>139195.000000</td>\n",
       "      <td>6.574597</td>\n",
       "      <td>5.000000</td>\n",
       "      <td>5.000000</td>\n",
       "    </tr>\n",
       "  </tbody>\n",
       "</table>\n",
       "<p>8 rows × 31 columns</p>\n",
       "</div>"
      ],
      "text/plain": [
       "          openness   agreeableness   emotional_stability   conscientiousness  \\\n",
       "count  1834.000000     1834.000000           1834.000000         1834.000000   \n",
       "mean      5.376499        4.215921              4.561614            4.662486   \n",
       "std       1.042804        1.137923              1.392548            1.311450   \n",
       "min       1.000000        1.000000              1.000000            1.000000   \n",
       "25%       4.500000        3.500000              3.500000            4.000000   \n",
       "50%       5.500000        4.000000              4.500000            4.500000   \n",
       "75%       6.000000        5.000000              5.500000            5.500000   \n",
       "max       7.000000        7.000000              7.000000            7.000000   \n",
       "\n",
       "        extraversion        movie_1   predicted_rating_1        movie_2  \\\n",
       "count    1834.000000    1834.000000          1834.000000    1834.000000   \n",
       "mean        3.485551   45669.233915             4.362927   50656.360414   \n",
       "std         1.468503   46612.744107             0.383549   46669.152356   \n",
       "min         1.000000       6.000000             2.510682       1.000000   \n",
       "25%         2.500000    2019.000000             4.110614    3307.750000   \n",
       "50%         3.500000   17392.000000             4.355815   44377.000000   \n",
       "75%         4.500000   94466.000000             4.618449   96606.000000   \n",
       "max         7.000000  140737.000000             6.563889  136445.000000   \n",
       "\n",
       "        predicted_rating_2        movie_3  ...        movie_9  \\\n",
       "count          1834.000000    1834.000000  ...    1834.000000   \n",
       "mean              4.322496   51791.061069  ...   39458.009269   \n",
       "std               0.378746   46172.769718  ...   44511.776921   \n",
       "min               2.423497       6.000000  ...       1.000000   \n",
       "25%               4.084125    3031.250000  ...    1766.750000   \n",
       "50%               4.320721   48780.000000  ...    7156.000000   \n",
       "75%               4.556173   95311.000000  ...   84847.000000   \n",
       "max               6.585588  141761.000000  ...  140359.000000   \n",
       "\n",
       "        predicted_rating_9       movie_10   predicted_rating_10  \\\n",
       "count          1834.000000    1834.000000           1834.000000   \n",
       "mean              4.302993   38493.352236              4.301880   \n",
       "std               0.380281   43444.149855              0.383848   \n",
       "min               2.483215       1.000000              2.799538   \n",
       "25%               4.049153    1302.000000              4.059146   \n",
       "50%               4.307194    6964.000000              4.294702   \n",
       "75%               4.545671   81847.000000              4.539686   \n",
       "max               6.606617  134853.000000              7.345432   \n",
       "\n",
       "            movie_11   predicted_rating_11       movie_12  \\\n",
       "count    1834.000000           1834.000000    1834.000000   \n",
       "mean    39280.998909              4.300609   38871.924755   \n",
       "std     43446.111523              0.378476   43486.579385   \n",
       "min         1.000000              2.375510       1.000000   \n",
       "25%      1466.000000              4.052558    1256.000000   \n",
       "50%      7505.000000              4.299400    7361.000000   \n",
       "75%     81845.000000              4.549493   82069.000000   \n",
       "max    142115.000000              6.530355  139195.000000   \n",
       "\n",
       "        predicted_rating_12   is_personalized   enjoy_watching   \n",
       "count           1834.000000       1834.000000       1834.000000  \n",
       "mean               4.302449          3.056707          3.517993  \n",
       "std                0.378439          1.078507          1.059060  \n",
       "min                2.313341          1.000000          1.000000  \n",
       "25%                4.050181          2.000000          3.000000  \n",
       "50%                4.305078          3.000000          4.000000  \n",
       "75%                4.550886          4.000000          4.000000  \n",
       "max                6.574597          5.000000          5.000000  \n",
       "\n",
       "[8 rows x 31 columns]"
      ]
     },
     "execution_count": 8,
     "metadata": {},
     "output_type": "execute_result"
    }
   ],
   "source": [
    "df.describe()"
   ]
  },
  {
   "cell_type": "code",
   "execution_count": 9,
   "metadata": {},
   "outputs": [
    {
     "name": "stdout",
     "output_type": "stream",
     "text": [
      "<class 'pandas.core.frame.DataFrame'>\n",
      "RangeIndex: 1834 entries, 0 to 1833\n",
      "Data columns (total 34 columns):\n",
      " #   Column                Non-Null Count  Dtype  \n",
      "---  ------                --------------  -----  \n",
      " 0   userid                1834 non-null   object \n",
      " 1    openness             1834 non-null   float64\n",
      " 2    agreeableness        1834 non-null   float64\n",
      " 3    emotional_stability  1834 non-null   float64\n",
      " 4    conscientiousness    1834 non-null   float64\n",
      " 5    extraversion         1834 non-null   float64\n",
      " 6    assigned metric      1834 non-null   object \n",
      " 7    assigned condition   1834 non-null   object \n",
      " 8    movie_1              1834 non-null   int64  \n",
      " 9    predicted_rating_1   1834 non-null   float64\n",
      " 10   movie_2              1834 non-null   int64  \n",
      " 11   predicted_rating_2   1834 non-null   float64\n",
      " 12   movie_3              1834 non-null   int64  \n",
      " 13   predicted_rating_3   1834 non-null   float64\n",
      " 14   movie_4              1834 non-null   int64  \n",
      " 15   predicted_rating_4   1834 non-null   float64\n",
      " 16   movie_5              1834 non-null   int64  \n",
      " 17   predicted_rating_5   1834 non-null   float64\n",
      " 18   movie_6              1834 non-null   int64  \n",
      " 19   predicted_rating_6   1834 non-null   float64\n",
      " 20   movie_7              1834 non-null   int64  \n",
      " 21   predicted_rating_7   1834 non-null   float64\n",
      " 22   movie_8              1834 non-null   int64  \n",
      " 23   predicted_rating_8   1834 non-null   float64\n",
      " 24   movie_9              1834 non-null   int64  \n",
      " 25   predicted_rating_9   1834 non-null   float64\n",
      " 26   movie_10             1834 non-null   int64  \n",
      " 27   predicted_rating_10  1834 non-null   float64\n",
      " 28   movie_11             1834 non-null   int64  \n",
      " 29   predicted_rating_11  1834 non-null   float64\n",
      " 30   movie_12             1834 non-null   int64  \n",
      " 31   predicted_rating_12  1834 non-null   float64\n",
      " 32   is_personalized      1834 non-null   int64  \n",
      " 33   enjoy_watching       1834 non-null   int64  \n",
      "dtypes: float64(17), int64(14), object(3)\n",
      "memory usage: 487.3+ KB\n"
     ]
    }
   ],
   "source": [
    "df.info()"
   ]
  },
  {
   "cell_type": "code",
   "execution_count": 10,
   "metadata": {},
   "outputs": [],
   "source": [
    "\n",
    "columns_names = {' openness': 'openness', ' agreeableness': 'agreeableness', ' emotional_stability': 'emotional_stability',\n",
    "               ' conscientiousness': 'conscientiousness', ' extraversion': 'extraversion', ' assigned metric': 'assigned metric',\n",
    "               ' assigned condition': 'assigned condition', ' is_personalized': 'is_personalized', ' enjoy_watching ': 'enjoy_watching'}\n",
    "df = df.rename(columns=columns_names)"
   ]
  },
  {
   "cell_type": "code",
   "execution_count": 11,
   "metadata": {},
   "outputs": [],
   "source": [
    "df['assigned metric'] = df['assigned metric'].replace([' serendipity'], 'serendipity')\n",
    "df['assigned metric'] = df['assigned metric'].replace([' popularity'], 'popularity')\n",
    "df['assigned metric'] = df['assigned metric'].replace([' diversity'], 'diversity')\n",
    "df['assigned condition'] = df['assigned condition'].replace([' low'], 'low')\n",
    "df['assigned condition'] = df['assigned condition'].replace([' medium'], 'medium')\n",
    "df['assigned condition'] = df['assigned condition'].replace([' high'], 'high')"
   ]
  },
  {
   "cell_type": "code",
   "execution_count": 12,
   "metadata": {},
   "outputs": [
    {
     "data": {
      "text/html": [
       "<div>\n",
       "<style scoped>\n",
       "    .dataframe tbody tr th:only-of-type {\n",
       "        vertical-align: middle;\n",
       "    }\n",
       "\n",
       "    .dataframe tbody tr th {\n",
       "        vertical-align: top;\n",
       "    }\n",
       "\n",
       "    .dataframe thead th {\n",
       "        text-align: right;\n",
       "    }\n",
       "</style>\n",
       "<table border=\"1\" class=\"dataframe\">\n",
       "  <thead>\n",
       "    <tr style=\"text-align: right;\">\n",
       "      <th></th>\n",
       "      <th>userid</th>\n",
       "      <th>openness</th>\n",
       "      <th>agreeableness</th>\n",
       "      <th>emotional_stability</th>\n",
       "      <th>conscientiousness</th>\n",
       "      <th>extraversion</th>\n",
       "      <th>assigned metric</th>\n",
       "      <th>assigned condition</th>\n",
       "      <th>movie_1</th>\n",
       "      <th>predicted_rating_1</th>\n",
       "      <th>...</th>\n",
       "      <th>movie_9</th>\n",
       "      <th>predicted_rating_9</th>\n",
       "      <th>movie_10</th>\n",
       "      <th>predicted_rating_10</th>\n",
       "      <th>movie_11</th>\n",
       "      <th>predicted_rating_11</th>\n",
       "      <th>movie_12</th>\n",
       "      <th>predicted_rating_12</th>\n",
       "      <th>is_personalized</th>\n",
       "      <th>enjoy_watching</th>\n",
       "    </tr>\n",
       "  </thead>\n",
       "  <tbody>\n",
       "    <tr>\n",
       "      <th>0</th>\n",
       "      <td>8e7cebf9a234c064b75016249f2ac65e</td>\n",
       "      <td>5.0</td>\n",
       "      <td>2.0</td>\n",
       "      <td>3.0</td>\n",
       "      <td>2.5</td>\n",
       "      <td>6.5</td>\n",
       "      <td>serendipity</td>\n",
       "      <td>high</td>\n",
       "      <td>77658</td>\n",
       "      <td>4.410466</td>\n",
       "      <td>...</td>\n",
       "      <td>120138</td>\n",
       "      <td>4.244817</td>\n",
       "      <td>121372</td>\n",
       "      <td>4.396004</td>\n",
       "      <td>127152</td>\n",
       "      <td>4.120456</td>\n",
       "      <td>95311</td>\n",
       "      <td>4.053847</td>\n",
       "      <td>4</td>\n",
       "      <td>4</td>\n",
       "    </tr>\n",
       "    <tr>\n",
       "      <th>1</th>\n",
       "      <td>77c7d756a093150d4377720abeaeef76</td>\n",
       "      <td>7.0</td>\n",
       "      <td>4.0</td>\n",
       "      <td>6.0</td>\n",
       "      <td>5.5</td>\n",
       "      <td>4.0</td>\n",
       "      <td>all</td>\n",
       "      <td>default</td>\n",
       "      <td>94959</td>\n",
       "      <td>4.207280</td>\n",
       "      <td>...</td>\n",
       "      <td>56782</td>\n",
       "      <td>4.019599</td>\n",
       "      <td>5618</td>\n",
       "      <td>3.963953</td>\n",
       "      <td>969</td>\n",
       "      <td>4.174188</td>\n",
       "      <td>1232</td>\n",
       "      <td>4.334877</td>\n",
       "      <td>2</td>\n",
       "      <td>3</td>\n",
       "    </tr>\n",
       "    <tr>\n",
       "      <th>2</th>\n",
       "      <td>b7e8a92987a530cc368719a0e60e26a3</td>\n",
       "      <td>4.0</td>\n",
       "      <td>3.0</td>\n",
       "      <td>4.5</td>\n",
       "      <td>2.0</td>\n",
       "      <td>2.5</td>\n",
       "      <td>serendipity</td>\n",
       "      <td>medium</td>\n",
       "      <td>110501</td>\n",
       "      <td>4.868064</td>\n",
       "      <td>...</td>\n",
       "      <td>2288</td>\n",
       "      <td>4.823212</td>\n",
       "      <td>3307</td>\n",
       "      <td>4.676756</td>\n",
       "      <td>1172</td>\n",
       "      <td>4.649281</td>\n",
       "      <td>1212</td>\n",
       "      <td>4.744990</td>\n",
       "      <td>2</td>\n",
       "      <td>2</td>\n",
       "    </tr>\n",
       "    <tr>\n",
       "      <th>3</th>\n",
       "      <td>92561f21446e017dd6b68b94b23ad5b7</td>\n",
       "      <td>5.5</td>\n",
       "      <td>5.5</td>\n",
       "      <td>4.0</td>\n",
       "      <td>4.5</td>\n",
       "      <td>4.0</td>\n",
       "      <td>popularity</td>\n",
       "      <td>medium</td>\n",
       "      <td>2905</td>\n",
       "      <td>4.526371</td>\n",
       "      <td>...</td>\n",
       "      <td>3030</td>\n",
       "      <td>4.425689</td>\n",
       "      <td>1281</td>\n",
       "      <td>4.479921</td>\n",
       "      <td>940</td>\n",
       "      <td>4.355061</td>\n",
       "      <td>905</td>\n",
       "      <td>4.317927</td>\n",
       "      <td>3</td>\n",
       "      <td>3</td>\n",
       "    </tr>\n",
       "    <tr>\n",
       "      <th>4</th>\n",
       "      <td>030001ac2145a938b07e686a35a2d638</td>\n",
       "      <td>5.5</td>\n",
       "      <td>5.5</td>\n",
       "      <td>3.5</td>\n",
       "      <td>4.5</td>\n",
       "      <td>2.5</td>\n",
       "      <td>popularity</td>\n",
       "      <td>medium</td>\n",
       "      <td>2905</td>\n",
       "      <td>4.526371</td>\n",
       "      <td>...</td>\n",
       "      <td>3030</td>\n",
       "      <td>4.425689</td>\n",
       "      <td>1281</td>\n",
       "      <td>4.479921</td>\n",
       "      <td>940</td>\n",
       "      <td>4.355061</td>\n",
       "      <td>905</td>\n",
       "      <td>4.317927</td>\n",
       "      <td>2</td>\n",
       "      <td>3</td>\n",
       "    </tr>\n",
       "  </tbody>\n",
       "</table>\n",
       "<p>5 rows × 34 columns</p>\n",
       "</div>"
      ],
      "text/plain": [
       "                             userid  openness  agreeableness  \\\n",
       "0  8e7cebf9a234c064b75016249f2ac65e       5.0            2.0   \n",
       "1  77c7d756a093150d4377720abeaeef76       7.0            4.0   \n",
       "2  b7e8a92987a530cc368719a0e60e26a3       4.0            3.0   \n",
       "3  92561f21446e017dd6b68b94b23ad5b7       5.5            5.5   \n",
       "4  030001ac2145a938b07e686a35a2d638       5.5            5.5   \n",
       "\n",
       "   emotional_stability  conscientiousness  extraversion assigned metric  \\\n",
       "0                  3.0                2.5           6.5     serendipity   \n",
       "1                  6.0                5.5           4.0             all   \n",
       "2                  4.5                2.0           2.5     serendipity   \n",
       "3                  4.0                4.5           4.0      popularity   \n",
       "4                  3.5                4.5           2.5      popularity   \n",
       "\n",
       "  assigned condition   movie_1   predicted_rating_1  ...   movie_9  \\\n",
       "0               high     77658             4.410466  ...    120138   \n",
       "1            default     94959             4.207280  ...     56782   \n",
       "2             medium    110501             4.868064  ...      2288   \n",
       "3             medium      2905             4.526371  ...      3030   \n",
       "4             medium      2905             4.526371  ...      3030   \n",
       "\n",
       "    predicted_rating_9   movie_10   predicted_rating_10   movie_11  \\\n",
       "0             4.244817     121372              4.396004     127152   \n",
       "1             4.019599       5618              3.963953        969   \n",
       "2             4.823212       3307              4.676756       1172   \n",
       "3             4.425689       1281              4.479921        940   \n",
       "4             4.425689       1281              4.479921        940   \n",
       "\n",
       "    predicted_rating_11   movie_12   predicted_rating_12  is_personalized  \\\n",
       "0              4.120456      95311              4.053847                4   \n",
       "1              4.174188       1232              4.334877                2   \n",
       "2              4.649281       1212              4.744990                2   \n",
       "3              4.355061        905              4.317927                3   \n",
       "4              4.355061        905              4.317927                2   \n",
       "\n",
       "   enjoy_watching  \n",
       "0               4  \n",
       "1               3  \n",
       "2               2  \n",
       "3               3  \n",
       "4               3  \n",
       "\n",
       "[5 rows x 34 columns]"
      ]
     },
     "execution_count": 12,
     "metadata": {},
     "output_type": "execute_result"
    }
   ],
   "source": [
    "df.head(5)"
   ]
  },
  {
   "cell_type": "code",
   "execution_count": 13,
   "metadata": {},
   "outputs": [
    {
     "data": {
      "image/png": "[encoded data removed]",
      "text/plain": [
       "<Figure size 432x288 with 1 Axes>"
      ]
     },
     "metadata": {
      "needs_background": "light"
     },
     "output_type": "display_data"
    },
    {
     "data": {
      "image/png": "[encoded data removed]",
      "text/plain": [
       "<Figure size 432x288 with 1 Axes>"
      ]
     },
     "metadata": {
      "needs_background": "light"
     },
     "output_type": "display_data"
    },
    {
     "data": {
      "image/png": "[encoded data removed]",
      "text/plain": [
       "<Figure size 432x288 with 1 Axes>"
      ]
     },
     "metadata": {
      "needs_background": "light"
     },
     "output_type": "display_data"
    },
    {
     "data": {
      "image/png": "[encoded data removed]",
      "text/plain": [
       "<Figure size 432x288 with 1 Axes>"
      ]
     },
     "metadata": {
      "needs_background": "light"
     },
     "output_type": "display_data"
    },
    {
     "data": {
      "image/png": "[encoded data removed]",
      "text/plain": [
       "<Figure size 432x288 with 1 Axes>"
      ]
     },
     "metadata": {
      "needs_background": "light"
     },
     "output_type": "display_data"
    }
   ],
   "source": [
    "personality = ['openness', 'agreeableness', 'emotional_stability', 'conscientiousness', 'extraversion']\n",
    "\n",
    "for i in personality:\n",
    "    plt.hist(df[i])\n",
    "    plt.title(i)\n",
    "    plt.show()"
   ]
  },
  {
   "cell_type": "code",
   "execution_count": 14,
   "metadata": {},
   "outputs": [
    {
     "data": {
      "text/plain": [
       "<AxesSubplot:>"
      ]
     },
     "execution_count": 14,
     "metadata": {},
     "output_type": "execute_result"
    },
    {
     "data": {
      "image/png": "[encoded data removed]",
      "text/plain": [
       "<Figure size 432x288 with 2 Axes>"
      ]
     },
     "metadata": {
      "needs_background": "light"
     },
     "output_type": "display_data"
    }
   ],
   "source": [
    "sns.heatmap(df[personality].corr(), annot = True)"
   ]
  },
  {
   "cell_type": "code",
   "execution_count": 15,
   "metadata": {},
   "outputs": [
    {
     "name": "stderr",
     "output_type": "stream",
     "text": [
      "C:\\Users\\santh\\Anaconda3\\lib\\site-packages\\seaborn\\categorical.py:3666: UserWarning: The `factorplot` function has been renamed to `catplot`. The original name will be removed in a future release. Please update your code. Note that the default `kind` in `factorplot` (`'point'`) has changed `'strip'` in `catplot`.\n",
      "  warnings.warn(msg)\n"
     ]
    },
    {
     "data": {
      "text/plain": [
       "<seaborn.axisgrid.FacetGrid at 0x21fd34b2908>"
      ]
     },
     "execution_count": 15,
     "metadata": {},
     "output_type": "execute_result"
    },
    {
     "data": {
      "image/png": "[encoded data removed]",
      "text/plain": [
       "<Figure size 360x360 with 1 Axes>"
      ]
     },
     "metadata": {
      "needs_background": "light"
     },
     "output_type": "display_data"
    }
   ],
   "source": [
    "sns.factorplot( x = 'agreeableness', y = 'enjoy_watching', data = df)"
   ]
  },
  {
   "cell_type": "code",
   "execution_count": 16,
   "metadata": {},
   "outputs": [
    {
     "data": {
      "text/plain": [
       "<AxesSubplot:>"
      ]
     },
     "execution_count": 16,
     "metadata": {},
     "output_type": "execute_result"
    },
    {
     "data": {
      "image/png": "[encoded data removed]",
      "text/plain": [
       "<Figure size 432x288 with 2 Axes>"
      ]
     },
     "metadata": {
      "needs_background": "light"
     },
     "output_type": "display_data"
    }
   ],
   "source": [
    "sns.heatmap(df[['agreeableness','enjoy_watching']].corr(), annot = True)"
   ]
  },
  {
   "cell_type": "code",
   "execution_count": 17,
   "metadata": {},
   "outputs": [
    {
     "data": {
      "text/plain": [
       "<function print>"
      ]
     },
     "execution_count": 17,
     "metadata": {},
     "output_type": "execute_result"
    }
   ],
   "source": [
    "df_diversity_high = df[(df['assigned metric'] == 'diversity')\n",
    "                                   & (df[ 'assigned condition'] == 'high')]\n",
    "\n",
    "df_diversity_low = df[(df['assigned metric'] == 'diversity')\n",
    "                                  & (df[ 'assigned condition'] == 'low')]\n",
    "\n",
    "df_popularity_high = df[(df['assigned metric'] == 'popularity')\n",
    "                                    & (df[ 'assigned condition'] == 'high')]\n",
    "\n",
    "df_popularity_low = df[(df['assigned metric'] == 'popularity')\n",
    "                                   & (df[ 'assigned condition'] == 'low')]\n",
    "\n",
    "df_serendipity_high = df[(df['assigned metric'] == 'serendipity')\n",
    "                                     & (df[ 'assigned condition'] == 'high')]\n",
    "\n",
    "df_serendipity_low= df[(df['assigned metric'] == 'serendipity')\n",
    "                                   & (df[ 'assigned condition'] == 'low')]\n",
    "print"
   ]
  },
  {
   "cell_type": "code",
   "execution_count": 18,
   "metadata": {},
   "outputs": [
    {
     "name": "stdout",
     "output_type": "stream",
     "text": [
      "diversity high: (176, 34) diversity low: (170, 34) \n",
      " popularity high: (178, 34) popularity low (204, 34) \n",
      " df_serendipity high: (200, 34) df_serendipity low: (160, 34)\n"
     ]
    }
   ],
   "source": [
    "print('diversity high:', df_diversity_high.shape, 'diversity low:', df_diversity_low.shape ,'\\n popularity high:', df_popularity_high.shape,'popularity low', df_popularity_low.shape, '\\n df_serendipity high:', df_serendipity_high.shape, 'df_serendipity low:', df_serendipity_low.shape)"
   ]
  },
  {
   "cell_type": "code",
   "execution_count": 19,
   "metadata": {},
   "outputs": [
    {
     "data": {
      "text/plain": [
       "Text(0.5, 1.0, 'Openness - diversity')"
      ]
     },
     "execution_count": 19,
     "metadata": {},
     "output_type": "execute_result"
    },
    {
     "data": {
      "image/png": "[encoded data removed]",
      "text/plain": [
       "<Figure size 432x288 with 1 Axes>"
      ]
     },
     "metadata": {
      "needs_background": "light"
     },
     "output_type": "display_data"
    }
   ],
   "source": [
    "sns.regplot(x = 'openness' , y = 'enjoy_watching', data = df_diversity_high, color = 'b', x_estimator = np.mean )\n",
    "sns.regplot(x = 'openness' , y = 'enjoy_watching', data = df_diversity_low, color = 'r' ,x_estimator = np.mean )\n",
    "\n",
    "plt.title('Openness - diversity')\n"
   ]
  },
  {
   "cell_type": "code",
   "execution_count": 20,
   "metadata": {},
   "outputs": [
    {
     "data": {
      "text/plain": [
       "Text(0.5, 1.0, 'Openness - serendipity')"
      ]
     },
     "execution_count": 20,
     "metadata": {},
     "output_type": "execute_result"
    },
    {
     "data": {
      "image/png": "[encoded data removed]",
      "text/plain": [
       "<Figure size 432x288 with 1 Axes>"
      ]
     },
     "metadata": {
      "needs_background": "light"
     },
     "output_type": "display_data"
    }
   ],
   "source": [
    "sns.regplot(x = 'openness' , y = 'enjoy_watching', data = df_serendipity_high, color = 'b' , x_estimator = np.mean)\n",
    "sns.regplot(x = 'openness' , y = 'enjoy_watching', data = df_serendipity_low, color = 'r' ,  x_estimator = np.mean)\n",
    "plt.title('Openness - serendipity')"
   ]
  },
  {
   "cell_type": "code",
   "execution_count": 21,
   "metadata": {},
   "outputs": [
    {
     "data": {
      "text/plain": [
       "Text(0.5, 1.0, 'Openness - popularity')"
      ]
     },
     "execution_count": 21,
     "metadata": {},
     "output_type": "execute_result"
    },
    {
     "data": {
      "image/png": "[encoded data removed]",
      "text/plain": [
       "<Figure size 432x288 with 1 Axes>"
      ]
     },
     "metadata": {
      "needs_background": "light"
     },
     "output_type": "display_data"
    }
   ],
   "source": [
    "sns.regplot(x = 'openness' , y = 'enjoy_watching', data = df_popularity_high, color = 'b',  x_estimator = np.mean )\n",
    "sns.regplot(x = 'openness' , y = 'enjoy_watching', data = df_popularity_low, color = 'r',  x_estimator = np.mean )\n",
    "plt.title('Openness - popularity')"
   ]
  },
  {
   "cell_type": "code",
   "execution_count": 22,
   "metadata": {},
   "outputs": [
    {
     "data": {
      "text/plain": [
       "Text(0.5, 1.0, 'conscientiousness - diversity')"
      ]
     },
     "execution_count": 22,
     "metadata": {},
     "output_type": "execute_result"
    },
    {
     "data": {
      "image/png": "[encoded data removed]",
      "text/plain": [
       "<Figure size 432x288 with 1 Axes>"
      ]
     },
     "metadata": {
      "needs_background": "light"
     },
     "output_type": "display_data"
    }
   ],
   "source": [
    "sns.regplot(x = 'conscientiousness' , y = 'enjoy_watching', data = df_diversity_high, color = 'b',  x_estimator = np.mean)\n",
    "sns.regplot(x = 'conscientiousness' , y = 'enjoy_watching', data = df_diversity_low, color = 'r',  x_estimator = np.mean)\n",
    "\n",
    "plt.title('conscientiousness - diversity')"
   ]
  },
  {
   "cell_type": "code",
   "execution_count": null,
   "metadata": {},
   "outputs": [],
   "source": []
  }
 ],
 "metadata": {
  "kernelspec": {
   "display_name": "Python 3",
   "language": "python",
   "name": "python3"
  },
  "language_info": {
   "codemirror_mode": {
    "name": "ipython",
    "version": 3
   },
   "file_extension": ".py",
   "mimetype": "text/x-python",
   "name": "python",
   "nbconvert_exporter": "python",
   "pygments_lexer": "ipython3",
   "version": "3.7.4"
  }
 },
 "nbformat": 4,
 "nbformat_minor": 4
}
